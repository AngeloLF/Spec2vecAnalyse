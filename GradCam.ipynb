{
 "cells": [
  {
   "cell_type": "code",
   "execution_count": 4,
   "id": "fcb2e172-38f8-4ccb-892c-b9264cb4e5b5",
   "metadata": {},
   "outputs": [],
   "source": [
    "import os, sys\n",
    "import PIL\n",
    "import numpy as np\n",
    "import torch\n",
    "import torch.nn.functional as F\n",
    "import torchvision.models as models\n",
    "from torchvision import transforms\n",
    "from torchvision.utils import make_grid, save_image\n",
    "\n",
    "from gradcam.utils import visualize_cam\n",
    "from gradcam import GradCAM, GradCAMpp\n",
    "\n",
    "sys.path.append(\"./../\")\n",
    "from Spec2vecModels.architecture_SCaM import SCaM_Model\n",
    "\n",
    "device = 'cuda' if torch.cuda.is_available() else 'cpu'"
   ]
  },
  {
   "cell_type": "code",
   "execution_count": 6,
   "id": "fba61791-2a15-4085-88cb-bf2802c7c83d",
   "metadata": {},
   "outputs": [],
   "source": [
    "path_model_state = \"./../results/Spec2vecModels_Results/SCaM_chi2/states/train64_1e-03_best.pth\"\n",
    "path_test = \"./../results/output_simu/test64\"\n",
    "image = \"image/image_00\""
   ]
  },
  {
   "cell_type": "code",
   "execution_count": 12,
   "id": "0586b988-76c1-457a-a003-fee5c4717cb7",
   "metadata": {},
   "outputs": [],
   "source": [
    "input_image_np_raw = np.load(f\"{path_test}/{image}.npy\")\n",
    "input_image_normalized = input_image_np_raw / input_image_np_raw.max()\n",
    "input_tensor = torch.tensor(input_image_np_raw).unsqueeze(0).unsqueeze(0).to(device)"
   ]
  },
  {
   "cell_type": "code",
   "execution_count": 13,
   "id": "a6651acd-52c9-41ee-97a1-25feb91b01c2",
   "metadata": {},
   "outputs": [],
   "source": [
    "model = SCaM_Model().to(device)\n",
    "model.load_state_dict(torch.load(path_model_state)['model_state_dict'])\n",
    "model.eval()\n",
    "model.to(device)\n",
    "\n",
    "configs = [dict(model_type='SCaM', arch=model, layer_name='conv3'), ]"
   ]
  },
  {
   "cell_type": "code",
   "execution_count": 14,
   "id": "f8988846-2228-4065-9285-82ae06fdd233",
   "metadata": {},
   "outputs": [
    {
     "ename": "KeyError",
     "evalue": "'SCaM'",
     "output_type": "error",
     "traceback": [
      "\u001b[1;31m---------------------------------------------------------------------------\u001b[0m",
      "\u001b[1;31mKeyError\u001b[0m                                  Traceback (most recent call last)",
      "Cell \u001b[1;32mIn[14], line 1\u001b[0m\n\u001b[1;32m----> 1\u001b[0m cams \u001b[38;5;241m=\u001b[39m \u001b[43m[\u001b[49m\u001b[43m   \u001b[49m\u001b[43m[\u001b[49m\u001b[38;5;28;43mcls\u001b[39;49m\u001b[38;5;241;43m.\u001b[39;49m\u001b[43mfrom_config\u001b[49m\u001b[43m(\u001b[49m\u001b[38;5;241;43m*\u001b[39;49m\u001b[38;5;241;43m*\u001b[39;49m\u001b[43mconfig\u001b[49m\u001b[43m)\u001b[49m\u001b[43m \u001b[49m\u001b[38;5;28;43;01mfor\u001b[39;49;00m\u001b[43m \u001b[49m\u001b[38;5;28;43mcls\u001b[39;49m\u001b[43m \u001b[49m\u001b[38;5;129;43;01min\u001b[39;49;00m\u001b[43m \u001b[49m\u001b[43m(\u001b[49m\u001b[43mGradCAM\u001b[49m\u001b[43m,\u001b[49m\u001b[43m \u001b[49m\u001b[43mGradCAMpp\u001b[49m\u001b[43m)\u001b[49m\u001b[43m]\u001b[49m\u001b[43m   \u001b[49m\u001b[38;5;28;43;01mfor\u001b[39;49;00m\u001b[43m \u001b[49m\u001b[43mconfig\u001b[49m\u001b[43m \u001b[49m\u001b[38;5;129;43;01min\u001b[39;49;00m\u001b[43m \u001b[49m\u001b[43mconfigs\u001b[49m\u001b[43m]\u001b[49m\n",
      "Cell \u001b[1;32mIn[14], line 1\u001b[0m, in \u001b[0;36m<listcomp>\u001b[1;34m(.0)\u001b[0m\n\u001b[1;32m----> 1\u001b[0m cams \u001b[38;5;241m=\u001b[39m [   \u001b[43m[\u001b[49m\u001b[38;5;28;43mcls\u001b[39;49m\u001b[38;5;241;43m.\u001b[39;49m\u001b[43mfrom_config\u001b[49m\u001b[43m(\u001b[49m\u001b[38;5;241;43m*\u001b[39;49m\u001b[38;5;241;43m*\u001b[39;49m\u001b[43mconfig\u001b[49m\u001b[43m)\u001b[49m\u001b[43m \u001b[49m\u001b[38;5;28;43;01mfor\u001b[39;49;00m\u001b[43m \u001b[49m\u001b[38;5;28;43mcls\u001b[39;49m\u001b[43m \u001b[49m\u001b[38;5;129;43;01min\u001b[39;49;00m\u001b[43m \u001b[49m\u001b[43m(\u001b[49m\u001b[43mGradCAM\u001b[49m\u001b[43m,\u001b[49m\u001b[43m \u001b[49m\u001b[43mGradCAMpp\u001b[49m\u001b[43m)\u001b[49m\u001b[43m]\u001b[49m   \u001b[38;5;28;01mfor\u001b[39;00m config \u001b[38;5;129;01min\u001b[39;00m configs]\n",
      "Cell \u001b[1;32mIn[14], line 1\u001b[0m, in \u001b[0;36m<listcomp>\u001b[1;34m(.0)\u001b[0m\n\u001b[1;32m----> 1\u001b[0m cams \u001b[38;5;241m=\u001b[39m [   [\u001b[38;5;28;43mcls\u001b[39;49m\u001b[38;5;241;43m.\u001b[39;49m\u001b[43mfrom_config\u001b[49m\u001b[43m(\u001b[49m\u001b[38;5;241;43m*\u001b[39;49m\u001b[38;5;241;43m*\u001b[39;49m\u001b[43mconfig\u001b[49m\u001b[43m)\u001b[49m \u001b[38;5;28;01mfor\u001b[39;00m \u001b[38;5;28mcls\u001b[39m \u001b[38;5;129;01min\u001b[39;00m (GradCAM, GradCAMpp)]   \u001b[38;5;28;01mfor\u001b[39;00m config \u001b[38;5;129;01min\u001b[39;00m configs]\n",
      "File \u001b[1;32m~\\AppData\\Roaming\\Python\\Python311\\site-packages\\gradcam\\gradcam.py:43\u001b[0m, in \u001b[0;36mGradCAM.from_config\u001b[1;34m(cls, arch, model_type, layer_name)\u001b[0m\n\u001b[0;32m     41\u001b[0m \u001b[38;5;129m@classmethod\u001b[39m\n\u001b[0;32m     42\u001b[0m \u001b[38;5;28;01mdef\u001b[39;00m \u001b[38;5;21mfrom_config\u001b[39m(\u001b[38;5;28mcls\u001b[39m, arch: torch\u001b[38;5;241m.\u001b[39mnn\u001b[38;5;241m.\u001b[39mModule, model_type: \u001b[38;5;28mstr\u001b[39m, layer_name: \u001b[38;5;28mstr\u001b[39m):\n\u001b[1;32m---> 43\u001b[0m     target_layer \u001b[38;5;241m=\u001b[39m \u001b[43mlayer_finders\u001b[49m\u001b[43m[\u001b[49m\u001b[43mmodel_type\u001b[49m\u001b[43m]\u001b[49m(arch, layer_name)\n\u001b[0;32m     44\u001b[0m     \u001b[38;5;28;01mreturn\u001b[39;00m \u001b[38;5;28mcls\u001b[39m(arch, target_layer)\n",
      "\u001b[1;31mKeyError\u001b[0m: 'SCaM'"
     ]
    }
   ],
   "source": [
    "cams = [   [cls.from_config(**config) for cls in (GradCAM, GradCAMpp)]   for config in configs]"
   ]
  },
  {
   "cell_type": "code",
   "execution_count": null,
   "id": "8ddd45d8-086c-4284-8f07-92a4f4e25a55",
   "metadata": {},
   "outputs": [],
   "source": []
  }
 ],
 "metadata": {
  "kernelspec": {
   "display_name": "Python 3 (ipykernel)",
   "language": "python",
   "name": "python3"
  },
  "language_info": {
   "codemirror_mode": {
    "name": "ipython",
    "version": 3
   },
   "file_extension": ".py",
   "mimetype": "text/x-python",
   "name": "python",
   "nbconvert_exporter": "python",
   "pygments_lexer": "ipython3",
   "version": "3.11.5"
  }
 },
 "nbformat": 4,
 "nbformat_minor": 5
}
