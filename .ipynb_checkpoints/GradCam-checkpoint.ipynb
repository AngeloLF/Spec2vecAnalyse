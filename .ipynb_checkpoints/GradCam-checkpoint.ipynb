{
 "cells": [
  {
   "cell_type": "code",
   "execution_count": 4,
   "id": "fcb2e172-38f8-4ccb-892c-b9264cb4e5b5",
   "metadata": {},
   "outputs": [],
   "source": [
    "import os, sys\n",
    "import PIL\n",
    "import numpy as np\n",
    "import torch\n",
    "import torch.nn.functional as F\n",
    "import torchvision.models as models\n",
    "from torchvision import transforms\n",
    "from torchvision.utils import make_grid, save_image\n",
    "\n",
    "from gradcam.utils import visualize_cam\n",
    "from gradcam import GradCAM, GradCAMpp\n",
    "\n",
    "sys.path.append(\"./../\")\n",
    "from Spec2vecModels.architecture_SCaM import SCaM_Model\n",
    "\n",
    "device = 'cuda' if torch.cuda.is_available() else 'cpu'"
   ]
  },
  {
   "cell_type": "code",
   "execution_count": 6,
   "id": "fba61791-2a15-4085-88cb-bf2802c7c83d",
   "metadata": {},
   "outputs": [],
   "source": [
    "path_model_state = \"./../results/Spec2vecModels_Results/SCaM_chi2/states/train64_1e-03_best.pth\"\n",
    "path_test = \"./../results/output_simu/test64\"\n",
    "image = \"image/image_00\""
   ]
  },
  {
   "cell_type": "code",
   "execution_count": 12,
   "id": "0586b988-76c1-457a-a003-fee5c4717cb7",
   "metadata": {},
   "outputs": [],
   "source": [
    "input_image_np_raw = np.load(f\"{path_test}/{image}.npy\")\n",
    "input_image_normalized = input_image_np_raw / input_image_np_raw.max()\n",
    "input_tensor = torch.tensor(input_image_np_raw).unsqueeze(0).unsqueeze(0).to(device)"
   ]
  },
  {
   "cell_type": "code",
   "execution_count": 11,
   "id": "a6651acd-52c9-41ee-97a1-25feb91b01c2",
   "metadata": {},
   "outputs": [],
   "source": [
    "model = SCaM_Model().to(device)\n",
    "model.load_state_dict(torch.load(path_model_state)['model_state_dict'])\n",
    "model.eval()\n",
    "model.to(device)\n",
    "\n",
    "name = \"SCaM_chi2\"\n",
    "layer_name = \"conv3\"\n",
    "\n",
    "configs = [dict(model_type='alexnet', arch=alexnet, layer_name='features_11'), ]"
   ]
  },
  {
   "cell_type": "code",
   "execution_count": null,
   "id": "f8988846-2228-4065-9285-82ae06fdd233",
   "metadata": {},
   "outputs": [],
   "source": [
    "cams = [   [cls.from_config(**config) for cls in (GradCAM, GradCAMpp)]   for config in configs]"
   ]
  }
 ],
 "metadata": {
  "kernelspec": {
   "display_name": "Python 3 (ipykernel)",
   "language": "python",
   "name": "python3"
  },
  "language_info": {
   "codemirror_mode": {
    "name": "ipython",
    "version": 3
   },
   "file_extension": ".py",
   "mimetype": "text/x-python",
   "name": "python",
   "nbconvert_exporter": "python",
   "pygments_lexer": "ipython3",
   "version": "3.11.5"
  }
 },
 "nbformat": 4,
 "nbformat_minor": 5
}
